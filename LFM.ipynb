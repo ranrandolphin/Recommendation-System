{
 "cells": [
  {
   "cell_type": "markdown",
   "metadata": {},
   "source": [
    "## Latent Factor Model in Recommendation\n",
    "\n",
    "### Advantages\n",
    "\n",
    "- Users' personal opinions\n",
    "\n",
    "LFM methods based on user behaviors (data itself) represent users' personal opinions towards the classification of items. LFM methods have the similar key ideas compared with ItemCF: Two items, if they are clicked, watched, or liked by many users, there's a pretty good chance to classify those two items into same class/genere.\n",
    "\n",
    "- Decide the number of final classes/generes\n",
    "\n",
    "We can assign the number of final classes what we want LFM to classify based on user and item vectors.\n",
    "\n",
    "- The weight of each class/genere\n",
    "\n",
    "LFM will generate the weight of each class/genere, and thus LFM can learn which class that item belongs to. 'Soft' classification.\n",
    "\n",
    "- Different dimensions for different classes\n",
    "\n",
    "According to user profile or user preference, classes computed by LFM are not in the same dimensions.\n",
    "\n",
    "- Decide the weight of one item in one class\n",
    "\n",
    "The weight will be large if that item can represent that class (the attribute). For example, if users in one class almost have high chances to click or love one item, that item could have high weight in that class.\n",
    "\n",
    "#### Latent Factor Model formula: calculate user($u$)'s interest of item($i$)\n",
    "\n",
    "$Preference(u, i) = r_{ui} = {p_u}^T q_i = \\displaystyle\\sum_{f=1}^{F} p_{u,k}q_{i,k}$, where $k$ is $(u,i)$ pair, and $f$ is the indicate of per pair in $k$.\n",
    "\n",
    "$p_{u,k}$ and $q_{i,k}$ are the parameter of LFM model, $p_{u,k}$ measures the association between user($u$)'s interest and the $k$th latent factor, and $q_{i,k}$ measures the association between the $k$th latent factor and item($i$)."
   ]
  },
  {
   "cell_type": "markdown",
   "metadata": {},
   "source": [
    "### Approach:\n",
    "\n",
    "However, in our recommendation system, we do not have negative samples (what kinds of items users are not interested in):\n",
    "\n",
    "- interested items: user have many actions on those items\n",
    "- not very interested items: users have a few historical behaviors on those items\n",
    "- noninterested items: users do not have any actions on them\n",
    "\n",
    "We considere two approaches here:\n",
    "\n",
    "##### 1. Randomly generate negative samples:\n",
    "\n",
    "First, we manually select negative samples for each user\n",
    "- For every user, we need to keep balance between positive (interested) and negative (noninterested) samples. Hence, we need to make they have similar sample sizes.\n",
    "- We attempt to collect the hot/top items, and yet users do not have any historical behaviors for a while (one week, or one month)."
   ]
  },
  {
   "cell_type": "code",
   "execution_count": 15,
   "metadata": {
    "collapsed": false
   },
   "outputs": [],
   "source": [
    "def NegativeSample(self, item):\n",
    "    ret = dict()\n",
    "    for i in item.keys():\n",
    "        ret[i] = 1\n",
    "    n = 0\n",
    "    for i in range(0, len(item) * 5):\n",
    "        item = itemlist[random.randint(0, len(itemlist)) - 1] \n",
    "#itemlist is a table for all items' popolarity (count by number of click) and item show counts\n",
    "        if item in ret:\n",
    "            continue\n",
    "        ret[item] = 0\n",
    "        n += 1\n",
    "        if n > len(item):\n",
    "            break\n",
    "    return ret"
   ]
  },
  {
   "cell_type": "markdown",
   "metadata": {},
   "source": [
    "Then, if $(u, i)$ is positive sample, $r_{ui}$ = 1, and if $(u, i)$ is negative sample, $r_{ui}$ = -1."
   ]
  },
  {
   "cell_type": "markdown",
   "metadata": {},
   "source": [
    "##### 2. Explicit and Implicit rating:\n",
    "\n",
    "Most matrix factorization focuses on explicit feadback datasets, and the LFM results have relatively good accuracies. Instead, implicit feedback (e.g. browsing history, click-through-rate, payment hisgory, view count, and view duration, etc.) must be very powerful to be used to analyze users' behavior and preference. \n",
    "\n",
    "For each user, we know the number of times the user click on public accounts or video, and we also know the number of times they save, or the duration length they watch the video. Thus, we compute the $interest$ including the $weights$ for given user $i$ and item(public account or video link) $i$ to be the user's click/action frequency level of that item and normalized by user's total click or watch:\n",
    "\n",
    "$interest_{u,i} = \\frac{count_{click} (u,i) + count_{save} (u,i) + view_{duration} (u,i)}{\\displaystyle\\sum_{i'} count_{click} (u,i') + \\displaystyle\\sum_{i'} count_{save} (u,i') + \\displaystyle\\sum_{i'} view_{duration} (u,i')}$\n",
    "\n",
    "Next, we can calculate the rating for user $i$ to item $i$: $r_{u,i} = 5 * (1 - \\displaystyle\\sum_{i' = 1}^{K - 1} interest_{u, i'})$, and then we could get a rating in 0 - 5 range. We will use the rating $r_{u,i}$ in our matrix factorization model."
   ]
  },
  {
   "cell_type": "markdown",
   "metadata": {},
   "source": [
    "#### Matrix Factorization (Cont'd):\n",
    "\n",
    "Accourding to learning process, we know that those two parameters in Latent Factor Model are learned from training dataset, including user($u$)'s interested items and noninterested items.\n",
    "\n",
    "$Cost$ $Function$ = $\\displaystyle\\sum_{(u,i) \\in K} (r_{u,i} - \\hat{r}_{u,i}) ^ 2 $ = $\\displaystyle\\sum_{(u,i) \\in K} (r_{u,i} - \\displaystyle\\sum_{k = 1}^{K} p_{u,k}q_{i,k})^2 + \\lambda||p_u||^2 + \\lambda ||q_i||^2$\n",
    "\n",
    "The two parts with $\\lambda$ are the regularization terms in order to avoid or reduce overfitting. \n",
    "\n",
    "Before applying stochastic gradient descent, we first need to take partial derivative for $p_{u,k}$ and $q_{i,k}$ in cost function:\n",
    "\n",
    "$\\frac{\\partial C}{\\partial p_{u,k}} = -2q_{i,k} + 2\\lambda p_{u,k}$\n",
    "\n",
    "$\\frac{\\partial C}{\\partial q_{i,k}} = -2p_{u,k} + 2\\lambda q_{i,k}$\n",
    "\n",
    "Then, apply stochastic gradient descent by adding learning rate $\\gamma$:\n",
    "\n",
    "$p_{u,k} \\leftarrow p_{u,k} + \\gamma * (q_{i,k} - \\lambda p_{u,k})$\n",
    "\n",
    "$q_{i,k} \\leftarrow q_{i,k} + \\gamma * (p_{u,k} - \\lambda q_{i,k})$\n",
    "\n",
    "- first approach according to randomly generate negative sample:"
   ]
  },
  {
   "cell_type": "code",
   "execution_count": 16,
   "metadata": {
    "collapsed": false
   },
   "outputs": [],
   "source": [
    "def LFM(user_items, K, N, gamma = 0.0002, lamb = 0.05): # can change the values of gamma and lambda\n",
    "    [p, q] = startModel(user_items, K)\n",
    "    for step in range (0, len(N)):\n",
    "        for user, item in user_items.item():\n",
    "            sample = NegativeSample(item)\n",
    "            for newitem, rui in samples.item():\n",
    "                eui = rui - Predict(user, newitem)\n",
    "                for k in range(0, len(K)):\n",
    "                    p[user][k] += alpha * (eui * q[newitem][k] - lamb * p[user][k])\n",
    "                    p[newitem][k] += alpha * (eui * p[user][k] - lamb * q[newitem][k])"
   ]
  },
  {
   "cell_type": "markdown",
   "metadata": {},
   "source": [
    "- second approach according to compute rui by implicit information:\n",
    "\n",
    " $r_{u,i} = 5 * (1 - \\displaystyle\\sum_{i' = 1}^{K - 1} interest_{u, i'})$"
   ]
  },
  {
   "cell_type": "code",
   "execution_count": 17,
   "metadata": {
    "collapsed": true
   },
   "outputs": [],
   "source": [
    "def Recommendation(user, p, q):\n",
    "    rank = dict()\n",
    "    for k, puk in p[user].item():\n",
    "        for i, qki in q[k].item():\n",
    "            if i not in rank:\n",
    "                rank[i] += puk * qki\n",
    "    return rank"
   ]
  },
  {
   "cell_type": "markdown",
   "metadata": {},
   "source": [
    "### Evaluation\n",
    "\n",
    "#### Offline - RMSE & MAE\n",
    "\n",
    "$K$ is a set contained all pairs of user and item.\n",
    "\n",
    "Root Mean Square Error (RMSE): $RMSE = \\frac{\\sqrt{ \\displaystyle\\sum_{(u, i) \\in K}^{K} (r_{ui} - \\hat{r}_{ui})^2}}{|K|}$.\n",
    "\n",
    "Mean Absolute Value (MAE): $RMSE = \\frac{|\\displaystyle\\sum_{(u, i) \\in K}^{K} (r_{ui} - \\hat{r}_{ui})^2|}{|K|}$."
   ]
  },
  {
   "cell_type": "code",
   "execution_count": 18,
   "metadata": {
    "collapsed": true
   },
   "outputs": [],
   "source": [
    "import math\n",
    "import numpy as np\n",
    "\n",
    "def RMSE(set_user_item):\n",
    "    return math.sqrt(np.sum([(rui - pui)^2 for u, i, rui, pui in set_user_item]) / float(len(set_user_item)))\n",
    "\n",
    "def MAE(set_user_item):\n",
    "    return (np.sum([abs(rui - pui) for u, i, rui, pui in set_user_item]) / float(len(set_user_item)))"
   ]
  },
  {
   "cell_type": "markdown",
   "metadata": {},
   "source": [
    "#### Online - Precision & Recall\n",
    "\n",
    "$Train(u)$ is the recommendation list generated from LFM mothod under training/historical dataset.\n",
    "\n",
    "$Test(u)$ is the actual user behaviors on items in real time.\n",
    "\n",
    "Precision: $\\frac{TP}{TP + FP} = \\frac{\\displaystyle\\sum_{u \\in U} |Train(u) \\cap Test(u)|}{\\displaystyle\\sum_{u \\in U} |Train(u)|}$ = $\\frac{good \\ movie \\ recommended}{all \\ good \\ movie}$\n",
    "\n",
    "Recall: $\\frac{TP}{TP + FN} = \\frac{\\displaystyle\\sum_{u \\in U} |Train(u) \\cap Test(u)|}{\\displaystyle\\sum_{u \\in U} |Test(u)|}$ = $\\frac{good \\ movie \\ recommended}{all \\ recommended}$"
   ]
  },
  {
   "cell_type": "code",
   "execution_count": 19,
   "metadata": {
    "collapsed": true
   },
   "outputs": [],
   "source": [
    "def PrecisionandRecall(test, N):\n",
    "    #initialize\n",
    "    hit = 0\n",
    "    num_recall = 0\n",
    "    num_precision = 0\n",
    "    for user, item in test.item():\n",
    "        rank = Recommendation(user, N)\n",
    "        hit += len(rank & item)\n",
    "        num_recall += len(item)\n",
    "        num_precision += N\n",
    "    return hit / (1.0 * num_recall), hit / (1.0 * num_precision)"
   ]
  }
 ],
 "metadata": {
  "kernelspec": {
   "display_name": "Python 2",
   "language": "python",
   "name": "python2"
  },
  "language_info": {
   "codemirror_mode": {
    "name": "ipython",
    "version": 2
   },
   "file_extension": ".py",
   "mimetype": "text/x-python",
   "name": "python",
   "nbconvert_exporter": "python",
   "pygments_lexer": "ipython2",
   "version": "2.7.11"
  }
 },
 "nbformat": 4,
 "nbformat_minor": 0
}
